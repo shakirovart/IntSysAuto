{
 "cells": [
  {
   "cell_type": "markdown",
   "metadata": {},
   "source": [
    "# Машинное обучение\n",
    "\n",
    "Практическое задание 1 посвящено изучению основных библиотек для анализа данных, а также линейных моделей и методов их обучения. Вы научитесь:\n",
    " * применять библиотеки NumPy и Pandas для осуществления желаемых преобразований;\n",
    " * подготавливать данные для обучения линейных моделей;\n",
    " * обучать линейную, Lasso и Ridge-регрессии при помощи модуля scikit-learn;\n",
    " * реализовывать обычный и стохастический градиентные спуски;\n",
    " * обучать линейную регрессию для произвольного функционала качества."
   ]
  },
  {
   "cell_type": "markdown",
   "metadata": {},
   "source": [
    "## Библиотеки для анализа данных\n",
    "\n",
    "### NumPy\n",
    "\n",
    "Во всех заданиях данного раздела запрещено использовать циклы  и list comprehensions. Под вектором и матрицей в данных заданиях понимается одномерный и двумерный numpy.array соответственно."
   ]
  },
  {
   "cell_type": "code",
   "execution_count": 56,
   "metadata": {},
   "outputs": [],
   "source": [
    "import numpy as np\n",
    "from numpy.linalg import norm\n",
    "\n",
    "import pandas as pd\n",
    "import matplotlib.pyplot as plt\n",
    "%matplotlib inline\n",
    "\n",
    "from sklearn.metrics import r2_score\n",
    "from sklearn.metrics import mean_squared_error as mse\n",
    "from sklearn.preprocessing import StandardScaler\n",
    "from sklearn.model_selection import train_test_split\n",
    "from sklearn.feature_extraction import DictVectorizer\n",
    "from sklearn.linear_model import LinearRegression\n",
    "from sklearn.model_selection import GridSearchCV\n",
    "from sklearn.linear_model import Lasso, Ridge\n",
    "from sklearn.model_selection import cross_val_score\n"
   ]
  },
  {
   "cell_type": "markdown",
   "metadata": {},
   "source": [
    "Реализуйте функцию, возвращающую максимальный элемент в векторе x среди элементов, перед которыми стоит нулевой. Для x = np.array([6, 2, 0, 3, 0, 0, 5, 7, 0]) ответом является 5. Если нулевых элементов нет, функция должна возвращать None.\n"
   ]
  },
  {
   "cell_type": "code",
   "execution_count": 4,
   "metadata": {},
   "outputs": [],
   "source": [
    "def max_element(arr):\n",
    "    max_el = -float('inf')\n",
    "    i = 0\n",
    "    for i in range(arr.shape[0]-1):\n",
    "        if (arr[i] == 0):\n",
    "            max_el = max(max_el, arr[i+1])\n",
    "    return max_el if max_el!=-float('inf') else None"
   ]
  },
  {
   "cell_type": "code",
   "execution_count": 5,
   "metadata": {
    "scrolled": true
   },
   "outputs": [
    {
     "name": "stdout",
     "output_type": "stream",
     "text": [
      "None\n",
      "-1\n",
      "1\n"
     ]
    }
   ],
   "source": [
    "print(max_element(np.array([1, 2, 3])))\n",
    "print(max_element(np.array([1,0,-1,2])))\n",
    "print(max_element(np.array([-1,0,0,1])))"
   ]
  },
  {
   "cell_type": "markdown",
   "metadata": {},
   "source": [
    "Реализуйте функцию, принимающую на вход матрицу и некоторое число и возвращающую ближайший к числу элемент матрицы. Например: для X = np.arange(0,10).reshape((2, 5)) и v = 3.6 ответом будет 4."
   ]
  },
  {
   "cell_type": "code",
   "execution_count": 6,
   "metadata": {},
   "outputs": [],
   "source": [
    "def nearest_value(X, v):\n",
    "    nearest_value = float('inf')\n",
    "    for i in range(X.shape[0]):\n",
    "        for j in range(X.shape[1]):\n",
    "            if abs(v - X[i][j]) < abs(nearest_value - X[i][j]):\n",
    "                nearest_value = X[i][j]\n",
    "    return nearest_value"
   ]
  },
  {
   "cell_type": "code",
   "execution_count": 7,
   "metadata": {},
   "outputs": [
    {
     "data": {
      "text/plain": [
       "4"
      ]
     },
     "execution_count": 7,
     "metadata": {},
     "output_type": "execute_result"
    }
   ],
   "source": [
    "X = np.arange(0,10).reshape((2, 5))\n",
    "v = 3.6\n",
    "nearest_value(X, v)"
   ]
  },
  {
   "cell_type": "markdown",
   "metadata": {},
   "source": [
    "Реализуйте функцию scale(X), которая принимает на вход матрицу и масштабирует каждый ее столбец (вычитает выборочное среднее и делит на стандартное отклонение). Убедитесь, что в функции не будет происходить деления на ноль. Протестируйте на случайной матрице (для её генерации можно использовать, например, функцию [numpy.random.randint](http://docs.scipy.org/doc/numpy/reference/generated/numpy.random.randint.html))."
   ]
  },
  {
   "cell_type": "code",
   "execution_count": 8,
   "metadata": {},
   "outputs": [],
   "source": [
    "def scale(X):\n",
    "    m, n = X.shape\n",
    "    mean = np.mean(X, 0)\n",
    "    std = np.std(X, 0, ddof = 1)\n",
    "    return (X - np.resize(mean, (m,n))) / std if 0 not in std else \"Zero Division\" "
   ]
  },
  {
   "cell_type": "code",
   "execution_count": 19,
   "metadata": {},
   "outputs": [
    {
     "data": {
      "text/plain": [
       "array([[ 1.15470054,  0.92717265, -1.12089708],\n",
       "       [-0.57735027,  0.13245324,  0.32025631],\n",
       "       [-0.57735027, -1.05962589,  0.80064077]])"
      ]
     },
     "execution_count": 19,
     "metadata": {},
     "output_type": "execute_result"
    }
   ],
   "source": [
    "scale(np.array([[3, 9, 1],\n",
    "                [1, 7, 4],\n",
    "                [1, 4, 5]]))"
   ]
  },
  {
   "cell_type": "markdown",
   "metadata": {},
   "source": [
    " Реализуйте функцию, которая для заданной матрицы находит:\n",
    " - определитель\n",
    " - след\n",
    " - наименьший и наибольший элементы\n",
    " - норму Фробениуса\n",
    " - собственные числа\n",
    " - обратную матрицу\n",
    "\n",
    "Для тестирования сгенерируйте матрицу с элементами из нормального распределения $\\mathcal{N}$(10,1)"
   ]
  },
  {
   "cell_type": "code",
   "execution_count": 20,
   "metadata": {},
   "outputs": [],
   "source": [
    "def trace(X) -> int:\n",
    "    m, n = X.shape\n",
    "    trace = 0\n",
    "    if m!=n:\n",
    "        return trace #след существует только для квадратных матриц\n",
    "    else:\n",
    "        for i in range(n):\n",
    "            trace+=X[i][i]\n",
    "    return trace"
   ]
  },
  {
   "cell_type": "code",
   "execution_count": 21,
   "metadata": {},
   "outputs": [
    {
     "data": {
      "text/plain": [
       "12"
      ]
     },
     "execution_count": 21,
     "metadata": {},
     "output_type": "execute_result"
    }
   ],
   "source": [
    "\"\"\"\n",
    "0 1 2\n",
    "3 4 5 \n",
    "6 7 8\n",
    "\"\"\"\n",
    "trace(np.arange(0,9).reshape((3, 3)))\n"
   ]
  },
  {
   "cell_type": "code",
   "execution_count": 22,
   "metadata": {},
   "outputs": [],
   "source": [
    "def transpose(X) -> np.array:\n",
    "    m, n = X.shape\n",
    "    XT = np.zeros((n,m))\n",
    "    for i in range(m):\n",
    "        for j in range(n):\n",
    "            XT[j][i] = X[i][j]\n",
    "    return XT"
   ]
  },
  {
   "cell_type": "code",
   "execution_count": 23,
   "metadata": {},
   "outputs": [
    {
     "data": {
      "text/plain": [
       "array([[0., 2., 4., 6., 8.],\n",
       "       [1., 3., 5., 7., 9.]])"
      ]
     },
     "execution_count": 23,
     "metadata": {},
     "output_type": "execute_result"
    }
   ],
   "source": [
    "\"\"\"\n",
    "0 1\n",
    "2 3\n",
    "4 5\n",
    "6 7\n",
    "8 9\n",
    "\"\"\"\n",
    "transpose(np.arange(0,10).reshape((5, 2)))"
   ]
  },
  {
   "cell_type": "code",
   "execution_count": 24,
   "metadata": {},
   "outputs": [],
   "source": [
    "def minmax(A)->tuple:\n",
    "    m,n = A.shape\n",
    "    min_ = float('inf')\n",
    "    max_ = -min_\n",
    "    for i in range(m):\n",
    "        for j in range(n):\n",
    "            if A[i][j] > max_:\n",
    "                max_ = A[i][j]\n",
    "            if A[i][j] < min_:\n",
    "                min_ = A[i][j]\n",
    "    return min_, max_"
   ]
  },
  {
   "cell_type": "code",
   "execution_count": 25,
   "metadata": {},
   "outputs": [
    {
     "data": {
      "text/plain": [
       "(7.854424228239102, 11.852510425770225)"
      ]
     },
     "execution_count": 25,
     "metadata": {},
     "output_type": "execute_result"
    }
   ],
   "source": [
    "minmax(np.random.normal(10, 1, size = (5,5)))"
   ]
  },
  {
   "cell_type": "code",
   "execution_count": 32,
   "metadata": {},
   "outputs": [
    {
     "name": "stdout",
     "output_type": "stream",
     "text": [
      "9.433981132056603\n",
      "1.4142135623730951\n"
     ]
    }
   ],
   "source": [
    "def frobNorm(A):\n",
    "    return np.linalg.norm(A)\n",
    "A  = np.random.randint(0,10,size = (3,3))\n",
    "print(frobNorm(A))\n",
    "A = np.array([[1,0],[0,1]])\n",
    "print(frobNorm(A))"
   ]
  },
  {
   "cell_type": "code",
   "execution_count": 26,
   "metadata": {},
   "outputs": [],
   "source": [
    "def eigenvalues(A):\n",
    "    return np.linalg.eig(A)"
   ]
  },
  {
   "cell_type": "code",
   "execution_count": 30,
   "metadata": {},
   "outputs": [
    {
     "name": "stdout",
     "output_type": "stream",
     "text": [
      "[18.61207857  4.78140039 -2.39347896]\n",
      "[1. 1.]\n"
     ]
    }
   ],
   "source": [
    "A  = np.random.randint(0,10,size = (3,3))\n",
    "print(eigenvalues(A))\n",
    "A = np.array([[1,0],[0,1]])\n",
    "print(eigenvalues(A))"
   ]
  },
  {
   "cell_type": "code",
   "execution_count": 31,
   "metadata": {},
   "outputs": [
    {
     "name": "stdout",
     "output_type": "stream",
     "text": [
      "95.99999999999999\n",
      "1.0\n"
     ]
    }
   ],
   "source": [
    "def determinant(A):\n",
    "    return np.linalg.det(A)\n",
    "A  = np.random.randint(0,10,size = (3,3))\n",
    "print(determinant(A))\n",
    "A = np.array([[1,0],[0,1]])\n",
    "print(determinant(A))"
   ]
  },
  {
   "cell_type": "code",
   "execution_count": 33,
   "metadata": {},
   "outputs": [
    {
     "name": "stdout",
     "output_type": "stream",
     "text": [
      "[[-0.02    0.16    0.    ]\n",
      " [-0.0925 -0.01    0.125 ]\n",
      " [ 0.14   -0.12    0.    ]]\n",
      "[[1. 0.]\n",
      " [0. 1.]]\n"
     ]
    }
   ],
   "source": [
    "def inverse(A):\n",
    "    return np.linalg.inv(A)\n",
    "A  = np.random.randint(0,10,size = (3,3))\n",
    "print(inverse(A))\n",
    "A = np.array([[1,0],[0,1]])\n",
    "print(inverse(A))"
   ]
  },
  {
   "cell_type": "code",
   "execution_count": 36,
   "metadata": {},
   "outputs": [],
   "source": [
    "def get_stats(X):\n",
    "    print(\"Matrix = \\n\", X)\n",
    "    \n",
    "    print(\"Determinant: \")\n",
    "    print(determinant(X))\n",
    "    print(\"Trace: \")\n",
    "    print(trace(X))\n",
    "    print(\"Min and Max elements: \")\n",
    "    print(minmax(X))\n",
    "    print(\"Frob Norm: \")\n",
    "    print(frobNorm(X))\n",
    "    print(\"Eigenvalues: \")\n",
    "    print(eigenvalues(X))\n",
    "    print(\"Inverse: \")\n",
    "    print(inverse(X))"
   ]
  },
  {
   "cell_type": "code",
   "execution_count": 37,
   "metadata": {},
   "outputs": [
    {
     "name": "stdout",
     "output_type": "stream",
     "text": [
      "Matrix = \n",
      " [[11.15310536 10.81391025  9.59995102  9.5721184   9.59369886 10.67633462\n",
      "   8.62423336 10.68846255 11.07458547 10.56007269]\n",
      " [ 8.8944566  11.55650892  9.58076367  7.95540488 10.21646867 11.55623558\n",
      "  10.05062547 11.76252969 10.56536304 10.64310155]\n",
      " [ 9.79012552  8.80771242 10.65235492  9.3636689  11.41976733 10.17500558\n",
      "   9.0890083  10.35648562  9.37646899  8.4747513 ]\n",
      " [10.6115352   8.92113078 11.12142132  9.26417649 10.07199874  9.78052134\n",
      "   9.52876827 11.03429276 10.2770908   9.76916617]\n",
      " [10.72681328  9.66703708  9.32575433  9.34999024 10.22982039  9.5844172\n",
      "  10.08011908  9.29682255  9.76519874 10.89846869]\n",
      " [ 9.25068697 10.70813481  9.12519783  9.71279173  8.53909191  8.61972222\n",
      "   8.64416852  9.70719623  9.24213865  9.4710149 ]\n",
      " [ 9.53372473 10.33340977 10.11357682  9.75892996  9.31420967  9.9378304\n",
      "  10.37589221 11.32177592  8.35960628  9.91067165]\n",
      " [10.00194113  9.42867768 10.6321394  10.7549492   9.1851445   8.93232886\n",
      "   9.40719513 11.258451    8.87392988  9.38532566]\n",
      " [ 7.98453201  8.7973515  12.12167977 10.27405552 10.2936013   8.59937785\n",
      "   9.86198491 11.14472545  7.92662326 10.39907924]\n",
      " [ 8.97504344  9.31314775 10.89908043 10.611274    9.79345    10.35565748\n",
      "  10.32190945  8.13837273 11.35302668 11.53277569]]\n",
      "Determinant: \n",
      "-16120.150292879141\n",
      "Trace: \n",
      "102.56943044646184\n",
      "Min and Max elements: \n",
      "(7.926623256669552, 12.121679766718634)\n",
      "Frob Norm: \n",
      "99.47933920121488\n",
      "Eigenvalues: \n",
      "[99.0355749 +0.j         -2.44702939+0.j          1.16028191+2.37306221j\n",
      "  1.16028191-2.37306221j  2.38026684+0.35003997j  2.38026684-0.35003997j\n",
      " -1.0508396 +0.4741348j  -1.0508396 -0.4741348j   0.50073332+0.99421036j\n",
      "  0.50073332-0.99421036j]\n",
      "Inverse: \n",
      "[[ 0.19345838 -0.37219591 -0.01152616  0.32685861  0.04172281  0.09443342\n",
      "   0.39597519 -0.47624262 -0.05391385 -0.1231446 ]\n",
      " [-0.02741852 -0.21300122  0.08182835  0.1940585  -0.20194492  0.69429499\n",
      "   0.35066502 -0.78570051  0.0478642  -0.08727576]\n",
      " [ 0.16622116 -0.5270479   0.02479081  0.69211389 -0.51119285  0.46865808\n",
      "   0.6819551  -1.21537355  0.21412807  0.03784912]\n",
      " [ 0.04226011  0.09208161  0.09072415 -0.59436136  0.05124915 -0.25607686\n",
      "  -0.28805923  0.81555542 -0.08042724  0.13136418]\n",
      " [-0.13787042  0.18847893  0.26751408 -0.33078687  0.34016697 -0.0036491\n",
      "  -0.50130466  0.22190595  0.11809268 -0.13881041]\n",
      " [ 0.52305434 -0.19031323  0.16963243 -0.241828   -0.3382727  -0.44392766\n",
      "   0.65153923 -0.30731195 -0.03532672  0.18316432]\n",
      " [-0.69337296  0.17963805 -0.07948704  0.2532056   0.18806566  0.09644422\n",
      "   0.0809068   0.23379923 -0.32783703  0.09193072]\n",
      " [-0.08569589  0.42432382 -0.15552496 -0.19005019  0.13952071 -0.35891261\n",
      "  -0.51165826  0.87217023 -0.00699356 -0.13871707]\n",
      " [-0.39796366  0.40777582 -0.09310826  0.1393911   0.06969621  0.07418293\n",
      "  -0.71792757  0.66055709 -0.23816218  0.10578191]\n",
      " [ 0.39583442  0.02422464 -0.27095212 -0.2499731   0.24605429 -0.34580408\n",
      "  -0.13472117  0.01583179  0.33918354 -0.03873223]]\n"
     ]
    }
   ],
   "source": [
    "X = np.random.normal(10, 1, size = (10,10))\n",
    "get_stats(X)"
   ]
  },
  {
   "cell_type": "markdown",
   "metadata": {},
   "source": [
    "Повторите 100 раз следующий эксперимент: сгенерируйте две матрицы размера 10×10 из стандартного нормального распределения, перемножьте их (как матрицы) и найдите максимальный элемент. Какое среднее значение по экспериментам у максимальных элементов? 95-процентная квантиль?"
   ]
  },
  {
   "cell_type": "code",
   "execution_count": 52,
   "metadata": {},
   "outputs": [
    {
     "name": "stdout",
     "output_type": "stream",
     "text": [
      "Max element : 13.951315144702654\n",
      "95 quantile : 10.828405684507835\n"
     ]
    }
   ],
   "source": [
    "max_el = []\n",
    "for exp_num in range(100):\n",
    "    A = np.random.normal(0,1,size = (10,10))\n",
    "    B = np.random.normal(0,1,size = (10,10))\n",
    "    C = np.matmul(A, B)\n",
    "    max_el.append(minmax(C)[1])\n",
    "print(\"Max element :\", max(max_el))\n",
    "print(\"95 quantile :\", np.quantile(max_el, 0.95))"
   ]
  },
  {
   "cell_type": "code",
   "execution_count": 53,
   "metadata": {},
   "outputs": [
    {
     "data": {
      "text/plain": [
       "(array([ 9., 21., 13., 21., 15., 11.,  5.,  2.,  2.,  1.]),\n",
       " array([ 5.56704292,  6.40547014,  7.24389736,  8.08232458,  8.92075181,\n",
       "         9.75917903, 10.59760625, 11.43603348, 12.2744607 , 13.11288792,\n",
       "        13.95131514]),\n",
       " <a list of 10 Patch objects>)"
      ]
     },
     "execution_count": 53,
     "metadata": {},
     "output_type": "execute_result"
    },
    {
     "data": {
      "image/png": "[encoded data removed]",
      "text/plain": [
       "<Figure size 432x288 with 1 Axes>"
      ]
     },
     "metadata": {
      "needs_background": "light"
     },
     "output_type": "display_data"
    }
   ],
   "source": [
    "plt.hist(max_el)"
   ]
  },
  {
   "cell_type": "markdown",
   "metadata": {},
   "source": [
    "### Pandas\n",
    "\n",
    "![](https://metrouk2.files.wordpress.com/2015/10/panda.jpg)\n",
    "\n",
    "#### Ответьте на вопросы о данных по авиарейсам в США за январь-апрель 2008 года.\n",
    "\n",
    "[Данные](https://www.dropbox.com/s/dvfitn93obn0rql/2008.csv?dl=0) и их [описание](http://stat-computing.org/dataexpo/2009/the-data.html)"
   ]
  },
  {
   "cell_type": "code",
   "execution_count": 57,
   "metadata": {},
   "outputs": [],
   "source": [
    "import numpy as np\n",
    "import pandas as pd\n",
    "pd.set_option('max_columns', None)\n",
    "%matplotlib inline"
   ]
  },
  {
   "cell_type": "code",
   "execution_count": 58,
   "metadata": {},
   "outputs": [
    {
     "data": {
      "text/html": [
       "<div>\n",
       "<style scoped>\n",
       "    .dataframe tbody tr th:only-of-type {\n",
       "        vertical-align: middle;\n",
       "    }\n",
       "\n",
       "    .dataframe tbody tr th {\n",
       "        vertical-align: top;\n",
       "    }\n",
       "\n",
       "    .dataframe thead th {\n",
       "        text-align: right;\n",
       "    }\n",
       "</style>\n",
       "<table border=\"1\" class=\"dataframe\">\n",
       "  <thead>\n",
       "    <tr style=\"text-align: right;\">\n",
       "      <th></th>\n",
       "      <th>Year</th>\n",
       "      <th>Month</th>\n",
       "      <th>DayofMonth</th>\n",
       "      <th>DayOfWeek</th>\n",
       "      <th>DepTime</th>\n",
       "      <th>CRSDepTime</th>\n",
       "      <th>ArrTime</th>\n",
       "      <th>CRSArrTime</th>\n",
       "      <th>UniqueCarrier</th>\n",
       "      <th>FlightNum</th>\n",
       "      <th>TailNum</th>\n",
       "      <th>ActualElapsedTime</th>\n",
       "      <th>CRSElapsedTime</th>\n",
       "      <th>AirTime</th>\n",
       "      <th>ArrDelay</th>\n",
       "      <th>DepDelay</th>\n",
       "      <th>Origin</th>\n",
       "      <th>Dest</th>\n",
       "      <th>Distance</th>\n",
       "      <th>TaxiIn</th>\n",
       "      <th>TaxiOut</th>\n",
       "      <th>Cancelled</th>\n",
       "      <th>CancellationCode</th>\n",
       "      <th>Diverted</th>\n",
       "      <th>CarrierDelay</th>\n",
       "      <th>WeatherDelay</th>\n",
       "      <th>NASDelay</th>\n",
       "      <th>SecurityDelay</th>\n",
       "      <th>LateAircraftDelay</th>\n",
       "    </tr>\n",
       "  </thead>\n",
       "  <tbody>\n",
       "    <tr>\n",
       "      <th>0</th>\n",
       "      <td>2008</td>\n",
       "      <td>6</td>\n",
       "      <td>18</td>\n",
       "      <td>3</td>\n",
       "      <td>2111.0</td>\n",
       "      <td>2055</td>\n",
       "      <td>2308.0</td>\n",
       "      <td>2300</td>\n",
       "      <td>WN</td>\n",
       "      <td>242</td>\n",
       "      <td>N699SW</td>\n",
       "      <td>57.0</td>\n",
       "      <td>65.0</td>\n",
       "      <td>46.0</td>\n",
       "      <td>8.0</td>\n",
       "      <td>16.0</td>\n",
       "      <td>MDW</td>\n",
       "      <td>CLE</td>\n",
       "      <td>307</td>\n",
       "      <td>3.0</td>\n",
       "      <td>8.0</td>\n",
       "      <td>0</td>\n",
       "      <td>NaN</td>\n",
       "      <td>0</td>\n",
       "      <td>NaN</td>\n",
       "      <td>NaN</td>\n",
       "      <td>NaN</td>\n",
       "      <td>NaN</td>\n",
       "      <td>NaN</td>\n",
       "    </tr>\n",
       "    <tr>\n",
       "      <th>1</th>\n",
       "      <td>2008</td>\n",
       "      <td>6</td>\n",
       "      <td>4</td>\n",
       "      <td>3</td>\n",
       "      <td>1426.0</td>\n",
       "      <td>1410</td>\n",
       "      <td>1730.0</td>\n",
       "      <td>1728</td>\n",
       "      <td>XE</td>\n",
       "      <td>2380</td>\n",
       "      <td>N15980</td>\n",
       "      <td>124.0</td>\n",
       "      <td>138.0</td>\n",
       "      <td>108.0</td>\n",
       "      <td>2.0</td>\n",
       "      <td>16.0</td>\n",
       "      <td>IAH</td>\n",
       "      <td>AVL</td>\n",
       "      <td>834</td>\n",
       "      <td>4.0</td>\n",
       "      <td>12.0</td>\n",
       "      <td>0</td>\n",
       "      <td>NaN</td>\n",
       "      <td>0</td>\n",
       "      <td>NaN</td>\n",
       "      <td>NaN</td>\n",
       "      <td>NaN</td>\n",
       "      <td>NaN</td>\n",
       "      <td>NaN</td>\n",
       "    </tr>\n",
       "    <tr>\n",
       "      <th>2</th>\n",
       "      <td>2008</td>\n",
       "      <td>8</td>\n",
       "      <td>3</td>\n",
       "      <td>7</td>\n",
       "      <td>1143.0</td>\n",
       "      <td>1145</td>\n",
       "      <td>1501.0</td>\n",
       "      <td>1520</td>\n",
       "      <td>WN</td>\n",
       "      <td>1769</td>\n",
       "      <td>N464WN</td>\n",
       "      <td>138.0</td>\n",
       "      <td>155.0</td>\n",
       "      <td>125.0</td>\n",
       "      <td>-19.0</td>\n",
       "      <td>-2.0</td>\n",
       "      <td>MDW</td>\n",
       "      <td>TPA</td>\n",
       "      <td>997</td>\n",
       "      <td>4.0</td>\n",
       "      <td>9.0</td>\n",
       "      <td>0</td>\n",
       "      <td>NaN</td>\n",
       "      <td>0</td>\n",
       "      <td>NaN</td>\n",
       "      <td>NaN</td>\n",
       "      <td>NaN</td>\n",
       "      <td>NaN</td>\n",
       "      <td>NaN</td>\n",
       "    </tr>\n",
       "    <tr>\n",
       "      <th>3</th>\n",
       "      <td>2008</td>\n",
       "      <td>1</td>\n",
       "      <td>23</td>\n",
       "      <td>3</td>\n",
       "      <td>1141.0</td>\n",
       "      <td>1144</td>\n",
       "      <td>1323.0</td>\n",
       "      <td>1335</td>\n",
       "      <td>OO</td>\n",
       "      <td>3802</td>\n",
       "      <td>N465SW</td>\n",
       "      <td>102.0</td>\n",
       "      <td>111.0</td>\n",
       "      <td>79.0</td>\n",
       "      <td>-12.0</td>\n",
       "      <td>-3.0</td>\n",
       "      <td>SLC</td>\n",
       "      <td>FCA</td>\n",
       "      <td>532</td>\n",
       "      <td>4.0</td>\n",
       "      <td>19.0</td>\n",
       "      <td>0</td>\n",
       "      <td>NaN</td>\n",
       "      <td>0</td>\n",
       "      <td>NaN</td>\n",
       "      <td>NaN</td>\n",
       "      <td>NaN</td>\n",
       "      <td>NaN</td>\n",
       "      <td>NaN</td>\n",
       "    </tr>\n",
       "    <tr>\n",
       "      <th>4</th>\n",
       "      <td>2008</td>\n",
       "      <td>5</td>\n",
       "      <td>4</td>\n",
       "      <td>7</td>\n",
       "      <td>815.0</td>\n",
       "      <td>820</td>\n",
       "      <td>1243.0</td>\n",
       "      <td>1300</td>\n",
       "      <td>WN</td>\n",
       "      <td>399</td>\n",
       "      <td>N489WN</td>\n",
       "      <td>148.0</td>\n",
       "      <td>160.0</td>\n",
       "      <td>136.0</td>\n",
       "      <td>-17.0</td>\n",
       "      <td>-5.0</td>\n",
       "      <td>LAS</td>\n",
       "      <td>AUS</td>\n",
       "      <td>1090</td>\n",
       "      <td>4.0</td>\n",
       "      <td>8.0</td>\n",
       "      <td>0</td>\n",
       "      <td>NaN</td>\n",
       "      <td>0</td>\n",
       "      <td>NaN</td>\n",
       "      <td>NaN</td>\n",
       "      <td>NaN</td>\n",
       "      <td>NaN</td>\n",
       "      <td>NaN</td>\n",
       "    </tr>\n",
       "  </tbody>\n",
       "</table>\n",
       "</div>"
      ],
      "text/plain": [
       "   Year  Month  DayofMonth  DayOfWeek  DepTime  CRSDepTime  ArrTime  \\\n",
       "0  2008      6          18          3   2111.0        2055   2308.0   \n",
       "1  2008      6           4          3   1426.0        1410   1730.0   \n",
       "2  2008      8           3          7   1143.0        1145   1501.0   \n",
       "3  2008      1          23          3   1141.0        1144   1323.0   \n",
       "4  2008      5           4          7    815.0         820   1243.0   \n",
       "\n",
       "   CRSArrTime UniqueCarrier  FlightNum TailNum  ActualElapsedTime  \\\n",
       "0        2300            WN        242  N699SW               57.0   \n",
       "1        1728            XE       2380  N15980              124.0   \n",
       "2        1520            WN       1769  N464WN              138.0   \n",
       "3        1335            OO       3802  N465SW              102.0   \n",
       "4        1300            WN        399  N489WN              148.0   \n",
       "\n",
       "   CRSElapsedTime  AirTime  ArrDelay  DepDelay Origin Dest  Distance  TaxiIn  \\\n",
       "0            65.0     46.0       8.0      16.0    MDW  CLE       307     3.0   \n",
       "1           138.0    108.0       2.0      16.0    IAH  AVL       834     4.0   \n",
       "2           155.0    125.0     -19.0      -2.0    MDW  TPA       997     4.0   \n",
       "3           111.0     79.0     -12.0      -3.0    SLC  FCA       532     4.0   \n",
       "4           160.0    136.0     -17.0      -5.0    LAS  AUS      1090     4.0   \n",
       "\n",
       "   TaxiOut  Cancelled CancellationCode  Diverted  CarrierDelay  WeatherDelay  \\\n",
       "0      8.0          0              NaN         0           NaN           NaN   \n",
       "1     12.0          0              NaN         0           NaN           NaN   \n",
       "2      9.0          0              NaN         0           NaN           NaN   \n",
       "3     19.0          0              NaN         0           NaN           NaN   \n",
       "4      8.0          0              NaN         0           NaN           NaN   \n",
       "\n",
       "   NASDelay  SecurityDelay  LateAircraftDelay  \n",
       "0       NaN            NaN                NaN  \n",
       "1       NaN            NaN                NaN  \n",
       "2       NaN            NaN                NaN  \n",
       "3       NaN            NaN                NaN  \n",
       "4       NaN            NaN                NaN  "
      ]
     },
     "execution_count": 58,
     "metadata": {},
     "output_type": "execute_result"
    }
   ],
   "source": [
    "df = pd.read_csv('2008.csv')\n",
    "df.head()"
   ]
  },
  {
   "cell_type": "markdown",
   "metadata": {},
   "source": [
    "Какая из причин отмены рейса (`CancellationCode`) была самой частой? (расшифровки кодов можно найти в описании данных)"
   ]
  },
  {
   "cell_type": "code",
   "execution_count": null,
   "metadata": {},
   "outputs": [],
   "source": [
    "df['CancellationCode'].value_counts()\n",
    "# Самая частая причина отмены рейса - carrier. Перевозчик сам отменил рейс."
   ]
  },
  {
   "cell_type": "markdown",
   "metadata": {},
   "source": [
    "Найдите среднее, минимальное и максимальное расстояние, пройденное самолетом."
   ]
  },
  {
   "cell_type": "code",
   "execution_count": null,
   "metadata": {},
   "outputs": [],
   "source": [
    "print(\"Average distance - \", df['Distance'].mean())\n",
    "print(\"Minimum distance - \", df['Distance'].min())\n",
    "print(\"Maximum distance - \", df['Distance'].max())"
   ]
  },
  {
   "cell_type": "markdown",
   "metadata": {},
   "source": [
    " Не выглядит ли подозрительным минимальное пройденное расстояние? В какие дни и на каких рейсах оно было? Какое расстояние было пройдено этими же рейсами в другие дни?"
   ]
  },
  {
   "cell_type": "code",
   "execution_count": null,
   "metadata": {
    "scrolled": false
   },
   "outputs": [],
   "source": [
    "df[df[\"Distance\"] == 31]\n",
    "\n",
    "# Рейсы с расстоянием 31 - это Alaska Airlines. Номера рейсов - 64 и 65. \n",
    "# При этом два из них были отменены по погодным условиям. Из пункта WRG->PSG и PSG->WRG.\n",
    "# 31 miles - это расстояние от аэропорта PSG до WRG.\n",
    "# Дни - 30 и 26 декабря, 18 и 9 августа, 28 февраля и 11 марта."
   ]
  },
  {
   "cell_type": "code",
   "execution_count": null,
   "metadata": {
    "scrolled": false
   },
   "outputs": [],
   "source": [
    "df[((df[\"FlightNum\"] == 64) | (df[\"FlightNum\"] == 65))]['Origin'].value_counts()"
   ]
  },
  {
   "cell_type": "code",
   "execution_count": null,
   "metadata": {},
   "outputs": [],
   "source": [
    "# Hartsfield–Jackson Atlanta International Airport - Атланта, США."
   ]
  },
  {
   "cell_type": "markdown",
   "metadata": {},
   "source": [
    "Из какого аэропорта было произведено больше всего вылетов? В каком городе он находится?"
   ]
  },
  {
   "cell_type": "code",
   "execution_count": null,
   "metadata": {},
   "outputs": [],
   "source": [
    "df['Origin'].value_counts()"
   ]
  },
  {
   "cell_type": "code",
   "execution_count": null,
   "metadata": {},
   "outputs": [],
   "source": [
    "# Hartsfield–Jackson Atlanta International Airport - Атланта, США."
   ]
  },
  {
   "cell_type": "markdown",
   "metadata": {},
   "source": [
    "Найдите для каждого аэропорта среднее время полета (`AirTime`) по всем вылетевшим из него рейсам. Какой аэропорт имеет наибольшее значение этого показателя?"
   ]
  },
  {
   "cell_type": "code",
   "execution_count": null,
   "metadata": {},
   "outputs": [],
   "source": [
    "mean_AirTime = df.groupby(df['Origin'])['AirTime'].mean()\n",
    "mean_AirTime.reset_index().sort_values('AirTime', ascending=False)\n",
    "\n",
    "#SJU - Luis Munoz Marin International, Puerto Rico"
   ]
  },
  {
   "cell_type": "markdown",
   "metadata": {},
   "source": [
    "Найдите аэропорт, у которого наибольшая доля задержанных (`DepDelay > 0`) рейсов. Исключите при этом из рассмотрения аэропорты, из которых было отправлено меньше 1000 рейсов (используйте функцию `filter` после `groupby`)."
   ]
  },
  {
   "cell_type": "code",
   "execution_count": null,
   "metadata": {},
   "outputs": [],
   "source": [
    "subDf = df[df['DepDelay']>0].groupby(df['Origin'])[\"Origin\"].count()[lambda x: x > 1000]\n",
    "for airport in subDf.index:\n",
    "    val_cnts = subDf[airport]\n",
    "    den = df[(df['Origin'] == airport)]['Origin'].value_counts()[airport]\n",
    "    print(airport, 'ratio :', val_cnts/den)"
   ]
  },
  {
   "cell_type": "markdown",
   "metadata": {},
   "source": [
    "## Линейная регрессия\n",
    "\n",
    "В этой части мы разберемся с линейной регрессией, способами её обучения и измерением качества ее прогнозов. \n",
    "\n",
    "Будем рассматривать датасет из предыдущей части задания для предсказания времени задержки отправления рейса в минутах (DepDelay). Отметим, что под задержкой подразумевается не только опоздание рейса относительно планируемого времени вылета, но и отправление до планируемого времени.\n",
    "\n",
    "### Подготовка данных\n",
    "\n",
    "**12. (0.5 балла)** Считайте выборку из файла при помощи функции pd.read_csv и ответьте на следующие вопросы:\n",
    "   - Имеются ли в данных пропущенные значения?\n",
    "   - Сколько всего пропущенных элементов в таблице \"объект-признак\"?\n",
    "   - Сколько объектов имеют хотя бы один пропуск?\n",
    "   - Сколько признаков имеют хотя бы одно пропущенное значение?"
   ]
  },
  {
   "cell_type": "markdown",
   "metadata": {},
   "source": [
    "Как вы понимаете, также не имеет смысла рассматривать при решении поставленной задачи объекты с пропущенным значением целевой переменной. В связи с этим ответьте на следующие вопросы и выполните соответствующие действия:\n",
    "- Имеются ли пропущенные значения в целевой переменной?\n",
    "- Проанализируйте объекты с пропущенными значениями целевой переменной. Чем вызвано это явление? Что их объединяет? Можно ли в связи с этим, на ваш взгляд, исключить какие-то признаки из рассмотрения? Обоснуйте свою точку зрения.\n",
    "\n",
    "Исключите из выборки объекты **с пропущенным значением целевой переменной и со значением целевой переменной, равным 0**, а также при необходимости исключите признаки в соответствии с вашим ответом на последний вопрос из списка и выделите целевую переменную в отдельный вектор, исключив её из матрицы \"объект-признак\"."
   ]
  },
  {
   "cell_type": "code",
   "execution_count": null,
   "metadata": {},
   "outputs": [],
   "source": [
    "df[df['DepDelay'].isna()]\n",
    "# ДА, имеются пропущенные значения целевой переменной.\n",
    "# Причина в том, что рейсы были отменены до вылета.\n",
    "# Можно исключить признак Cancelled и CancellationCode, Year"
   ]
  },
  {
   "cell_type": "markdown",
   "metadata": {},
   "source": [
    "**13. (0.5 балла)** Обратите внимание, что признаки DepTime, CRSDepTime, ArrTime, CRSArrTime приведены в формате hhmm, в связи с чем будет не вполне корректно рассматривать их как вещественные.\n",
    "\n",
    "Преобразуйте каждый признак FeatureName из указанных в пару новых признаков FeatureName\\_Hour, FeatureName\\_Minute, разделив каждое из значений на часы и минуты. Не забудьте при этом исключить исходный признак из выборки. В случае, если значение признака отсутствует, значения двух новых признаков, его заменяющих, также должны отсутствовать. \n",
    "\n",
    "Например, признак DepTime необходимо заменить на пару признаков DepTime_Hour, DepTime_Minute. При этом, например, значение 155 исходного признака будет преобразовано в значения 1 и 55 признаков DepTime_Hour, DepTime_Minute соответственно."
   ]
  },
  {
   "cell_type": "code",
   "execution_count": 59,
   "metadata": {},
   "outputs": [],
   "source": [
    "df.drop(columns = ['Year','TailNum','Cancelled','CancellationCode'], inplace = True)\n",
    "\n",
    "df = df[df['DepDelay'] != 0]\n",
    "df = df[df['DepDelay'].notna()]\n",
    "\n",
    "df = df.reset_index()\n",
    "for col in [\"DepTime\", \"CRSDepTime\", \"ArrTime\", \"CRSArrTime\"]:\n",
    "    name_hour = col + \"_Hour\"\n",
    "    name_min = col + \"_Min\"\n",
    "    df[name_min] = df[col] % 100\n",
    "    df[name_hour] = (df[col] - df[name_min])/100\n",
    "    df = df.drop(columns = [col])"
   ]
  },
  {
   "cell_type": "markdown",
   "metadata": {},
   "source": [
    "**14. (0.5 балла)** Некоторые из признаков, отличных от целевой переменной, могут оказывать чересчур значимое влияние на прогноз, поскольку по своему смыслу содержат большую долю информации о значении целевой переменной. Изучите описание датасета и исключите признаки, сильно коррелирующие с ответами. Ваш выбор признаков для исключения из выборки обоснуйте. Кроме того, исключите признаки TailNum и Year."
   ]
  },
  {
   "cell_type": "code",
   "execution_count": 60,
   "metadata": {},
   "outputs": [
    {
     "data": {
      "text/plain": [
       "index               -0.001723\n",
       "Month               -0.029528\n",
       "DayofMonth           0.008574\n",
       "DayOfWeek            0.008530\n",
       "FlightNum            0.021166\n",
       "ActualElapsedTime    0.041946\n",
       "CRSElapsedTime       0.034302\n",
       "AirTime              0.025237\n",
       "ArrDelay             0.933526\n",
       "DepDelay             1.000000\n",
       "Distance             0.024252\n",
       "TaxiIn               0.020640\n",
       "TaxiOut              0.101294\n",
       "Diverted             0.027166\n",
       "CarrierDelay         0.532696\n",
       "WeatherDelay         0.238872\n",
       "NASDelay             0.171591\n",
       "SecurityDelay        0.010668\n",
       "LateAircraftDelay    0.553806\n",
       "DepTime_Min         -0.017055\n",
       "DepTime_Hour         0.203125\n",
       "CRSDepTime_Min       0.022437\n",
       "CRSDepTime_Hour      0.140084\n",
       "ArrTime_Min          0.006171\n",
       "ArrTime_Hour         0.070181\n",
       "CRSArrTime_Min       0.008609\n",
       "CRSArrTime_Hour      0.135561\n",
       "dtype: float64"
      ]
     },
     "execution_count": 60,
     "metadata": {},
     "output_type": "execute_result"
    }
   ],
   "source": [
    "df.corrwith(df['DepDelay'])"
   ]
  },
  {
   "cell_type": "code",
   "execution_count": 61,
   "metadata": {},
   "outputs": [],
   "source": [
    "df.drop(columns = ['ArrDelay'], inplace = True)"
   ]
  },
  {
   "cell_type": "markdown",
   "metadata": {},
   "source": [
    "**15. (1 балл)** Приведем данные к виду, пригодному для обучения линейных моделей. Для этого вещественные признаки надо отмасштабировать, а категориальные — привести к числовому виду. Также надо устранить пропуски в данных."
   ]
  },
  {
   "cell_type": "code",
   "execution_count": 62,
   "metadata": {},
   "outputs": [
    {
     "data": {
      "text/html": [
       "<div>\n",
       "<style scoped>\n",
       "    .dataframe tbody tr th:only-of-type {\n",
       "        vertical-align: middle;\n",
       "    }\n",
       "\n",
       "    .dataframe tbody tr th {\n",
       "        vertical-align: top;\n",
       "    }\n",
       "\n",
       "    .dataframe thead th {\n",
       "        text-align: right;\n",
       "    }\n",
       "</style>\n",
       "<table border=\"1\" class=\"dataframe\">\n",
       "  <thead>\n",
       "    <tr style=\"text-align: right;\">\n",
       "      <th></th>\n",
       "      <th>Month</th>\n",
       "      <th>DayofMonth</th>\n",
       "      <th>DayOfWeek</th>\n",
       "      <th>UniqueCarrier</th>\n",
       "      <th>FlightNum</th>\n",
       "      <th>ActualElapsedTime</th>\n",
       "      <th>CRSElapsedTime</th>\n",
       "      <th>AirTime</th>\n",
       "      <th>DepDelay</th>\n",
       "      <th>Origin</th>\n",
       "      <th>Dest</th>\n",
       "      <th>Distance</th>\n",
       "      <th>TaxiIn</th>\n",
       "      <th>TaxiOut</th>\n",
       "      <th>Diverted</th>\n",
       "      <th>CarrierDelay</th>\n",
       "      <th>WeatherDelay</th>\n",
       "      <th>NASDelay</th>\n",
       "      <th>SecurityDelay</th>\n",
       "      <th>LateAircraftDelay</th>\n",
       "      <th>DepTime_Min</th>\n",
       "      <th>DepTime_Hour</th>\n",
       "      <th>CRSDepTime_Min</th>\n",
       "      <th>CRSDepTime_Hour</th>\n",
       "      <th>ArrTime_Min</th>\n",
       "      <th>ArrTime_Hour</th>\n",
       "      <th>CRSArrTime_Min</th>\n",
       "      <th>CRSArrTime_Hour</th>\n",
       "    </tr>\n",
       "  </thead>\n",
       "  <tbody>\n",
       "    <tr>\n",
       "      <th>0</th>\n",
       "      <td>6</td>\n",
       "      <td>18</td>\n",
       "      <td>3</td>\n",
       "      <td>WN</td>\n",
       "      <td>242</td>\n",
       "      <td>57.0</td>\n",
       "      <td>65.0</td>\n",
       "      <td>46.0</td>\n",
       "      <td>16.0</td>\n",
       "      <td>MDW</td>\n",
       "      <td>CLE</td>\n",
       "      <td>307</td>\n",
       "      <td>3.0</td>\n",
       "      <td>8.0</td>\n",
       "      <td>0</td>\n",
       "      <td>NaN</td>\n",
       "      <td>NaN</td>\n",
       "      <td>NaN</td>\n",
       "      <td>NaN</td>\n",
       "      <td>NaN</td>\n",
       "      <td>11.0</td>\n",
       "      <td>21.0</td>\n",
       "      <td>55</td>\n",
       "      <td>20.0</td>\n",
       "      <td>8.0</td>\n",
       "      <td>23.0</td>\n",
       "      <td>0</td>\n",
       "      <td>23.0</td>\n",
       "    </tr>\n",
       "    <tr>\n",
       "      <th>1</th>\n",
       "      <td>6</td>\n",
       "      <td>4</td>\n",
       "      <td>3</td>\n",
       "      <td>XE</td>\n",
       "      <td>2380</td>\n",
       "      <td>124.0</td>\n",
       "      <td>138.0</td>\n",
       "      <td>108.0</td>\n",
       "      <td>16.0</td>\n",
       "      <td>IAH</td>\n",
       "      <td>AVL</td>\n",
       "      <td>834</td>\n",
       "      <td>4.0</td>\n",
       "      <td>12.0</td>\n",
       "      <td>0</td>\n",
       "      <td>NaN</td>\n",
       "      <td>NaN</td>\n",
       "      <td>NaN</td>\n",
       "      <td>NaN</td>\n",
       "      <td>NaN</td>\n",
       "      <td>26.0</td>\n",
       "      <td>14.0</td>\n",
       "      <td>10</td>\n",
       "      <td>14.0</td>\n",
       "      <td>30.0</td>\n",
       "      <td>17.0</td>\n",
       "      <td>28</td>\n",
       "      <td>17.0</td>\n",
       "    </tr>\n",
       "    <tr>\n",
       "      <th>2</th>\n",
       "      <td>8</td>\n",
       "      <td>3</td>\n",
       "      <td>7</td>\n",
       "      <td>WN</td>\n",
       "      <td>1769</td>\n",
       "      <td>138.0</td>\n",
       "      <td>155.0</td>\n",
       "      <td>125.0</td>\n",
       "      <td>-2.0</td>\n",
       "      <td>MDW</td>\n",
       "      <td>TPA</td>\n",
       "      <td>997</td>\n",
       "      <td>4.0</td>\n",
       "      <td>9.0</td>\n",
       "      <td>0</td>\n",
       "      <td>NaN</td>\n",
       "      <td>NaN</td>\n",
       "      <td>NaN</td>\n",
       "      <td>NaN</td>\n",
       "      <td>NaN</td>\n",
       "      <td>43.0</td>\n",
       "      <td>11.0</td>\n",
       "      <td>45</td>\n",
       "      <td>11.0</td>\n",
       "      <td>1.0</td>\n",
       "      <td>15.0</td>\n",
       "      <td>20</td>\n",
       "      <td>15.0</td>\n",
       "    </tr>\n",
       "    <tr>\n",
       "      <th>3</th>\n",
       "      <td>1</td>\n",
       "      <td>23</td>\n",
       "      <td>3</td>\n",
       "      <td>OO</td>\n",
       "      <td>3802</td>\n",
       "      <td>102.0</td>\n",
       "      <td>111.0</td>\n",
       "      <td>79.0</td>\n",
       "      <td>-3.0</td>\n",
       "      <td>SLC</td>\n",
       "      <td>FCA</td>\n",
       "      <td>532</td>\n",
       "      <td>4.0</td>\n",
       "      <td>19.0</td>\n",
       "      <td>0</td>\n",
       "      <td>NaN</td>\n",
       "      <td>NaN</td>\n",
       "      <td>NaN</td>\n",
       "      <td>NaN</td>\n",
       "      <td>NaN</td>\n",
       "      <td>41.0</td>\n",
       "      <td>11.0</td>\n",
       "      <td>44</td>\n",
       "      <td>11.0</td>\n",
       "      <td>23.0</td>\n",
       "      <td>13.0</td>\n",
       "      <td>35</td>\n",
       "      <td>13.0</td>\n",
       "    </tr>\n",
       "    <tr>\n",
       "      <th>4</th>\n",
       "      <td>5</td>\n",
       "      <td>4</td>\n",
       "      <td>7</td>\n",
       "      <td>WN</td>\n",
       "      <td>399</td>\n",
       "      <td>148.0</td>\n",
       "      <td>160.0</td>\n",
       "      <td>136.0</td>\n",
       "      <td>-5.0</td>\n",
       "      <td>LAS</td>\n",
       "      <td>AUS</td>\n",
       "      <td>1090</td>\n",
       "      <td>4.0</td>\n",
       "      <td>8.0</td>\n",
       "      <td>0</td>\n",
       "      <td>NaN</td>\n",
       "      <td>NaN</td>\n",
       "      <td>NaN</td>\n",
       "      <td>NaN</td>\n",
       "      <td>NaN</td>\n",
       "      <td>15.0</td>\n",
       "      <td>8.0</td>\n",
       "      <td>20</td>\n",
       "      <td>8.0</td>\n",
       "      <td>43.0</td>\n",
       "      <td>12.0</td>\n",
       "      <td>0</td>\n",
       "      <td>13.0</td>\n",
       "    </tr>\n",
       "  </tbody>\n",
       "</table>\n",
       "</div>"
      ],
      "text/plain": [
       "   Month  DayofMonth  DayOfWeek UniqueCarrier  FlightNum  ActualElapsedTime  \\\n",
       "0      6          18          3            WN        242               57.0   \n",
       "1      6           4          3            XE       2380              124.0   \n",
       "2      8           3          7            WN       1769              138.0   \n",
       "3      1          23          3            OO       3802              102.0   \n",
       "4      5           4          7            WN        399              148.0   \n",
       "\n",
       "   CRSElapsedTime  AirTime  DepDelay Origin Dest  Distance  TaxiIn  TaxiOut  \\\n",
       "0            65.0     46.0      16.0    MDW  CLE       307     3.0      8.0   \n",
       "1           138.0    108.0      16.0    IAH  AVL       834     4.0     12.0   \n",
       "2           155.0    125.0      -2.0    MDW  TPA       997     4.0      9.0   \n",
       "3           111.0     79.0      -3.0    SLC  FCA       532     4.0     19.0   \n",
       "4           160.0    136.0      -5.0    LAS  AUS      1090     4.0      8.0   \n",
       "\n",
       "   Diverted  CarrierDelay  WeatherDelay  NASDelay  SecurityDelay  \\\n",
       "0         0           NaN           NaN       NaN            NaN   \n",
       "1         0           NaN           NaN       NaN            NaN   \n",
       "2         0           NaN           NaN       NaN            NaN   \n",
       "3         0           NaN           NaN       NaN            NaN   \n",
       "4         0           NaN           NaN       NaN            NaN   \n",
       "\n",
       "   LateAircraftDelay  DepTime_Min  DepTime_Hour  CRSDepTime_Min  \\\n",
       "0                NaN         11.0          21.0              55   \n",
       "1                NaN         26.0          14.0              10   \n",
       "2                NaN         43.0          11.0              45   \n",
       "3                NaN         41.0          11.0              44   \n",
       "4                NaN         15.0           8.0              20   \n",
       "\n",
       "   CRSDepTime_Hour  ArrTime_Min  ArrTime_Hour  CRSArrTime_Min  CRSArrTime_Hour  \n",
       "0             20.0          8.0          23.0               0             23.0  \n",
       "1             14.0         30.0          17.0              28             17.0  \n",
       "2             11.0          1.0          15.0              20             15.0  \n",
       "3             11.0         23.0          13.0              35             13.0  \n",
       "4              8.0         43.0          12.0               0             13.0  "
      ]
     },
     "execution_count": 62,
     "metadata": {},
     "output_type": "execute_result"
    }
   ],
   "source": [
    "df = df.drop(columns = ['index'])\n",
    "df.head()"
   ]
  },
  {
   "cell_type": "code",
   "execution_count": 63,
   "metadata": {},
   "outputs": [
    {
     "data": {
      "text/plain": [
       "Month                    0\n",
       "DayofMonth               0\n",
       "DayOfWeek                0\n",
       "UniqueCarrier            0\n",
       "FlightNum                0\n",
       "ActualElapsedTime      164\n",
       "CRSElapsedTime           5\n",
       "AirTime                164\n",
       "DepDelay                 0\n",
       "Origin                   0\n",
       "Dest                     0\n",
       "Distance                 0\n",
       "TaxiIn                 140\n",
       "TaxiOut                  7\n",
       "Diverted                 0\n",
       "CarrierDelay         48538\n",
       "WeatherDelay         48538\n",
       "NASDelay             48538\n",
       "SecurityDelay        48538\n",
       "LateAircraftDelay    48538\n",
       "DepTime_Min              0\n",
       "DepTime_Hour             0\n",
       "CRSDepTime_Min           0\n",
       "CRSDepTime_Hour          0\n",
       "ArrTime_Min            140\n",
       "ArrTime_Hour           140\n",
       "CRSArrTime_Min           0\n",
       "CRSArrTime_Hour          0\n",
       "dtype: int64"
      ]
     },
     "execution_count": 63,
     "metadata": {},
     "output_type": "execute_result"
    }
   ],
   "source": [
    "df.isna().sum()"
   ]
  },
  {
   "cell_type": "markdown",
   "metadata": {},
   "source": [
    "В первую очередь поймем, зачем необходимо применять масштабирование. Следующие ячейки с кодом построят гистограммы для 3 вещественных признаков выборки."
   ]
  },
  {
   "cell_type": "markdown",
   "metadata": {},
   "source": [
    "Какую проблему вы наблюдаете на этих графиках? Как масштабирование поможет её исправить?"
   ]
  },
  {
   "cell_type": "code",
   "execution_count": 65,
   "metadata": {},
   "outputs": [
    {
     "data": {
      "text/plain": [
       "'Данные имеют разное распределение и разные масштабы. Стандартизация данных позволяет приводить данные к среднему = 0 и ско = 1.\\nПри большом разбросе в данных коэффициенты при переменных могут быть очень маленькими.\\nНе думаю, что \"FlightNum\" можно считать вещественным признаком. Это скорее категориальный.\\n'"
      ]
     },
     "execution_count": 65,
     "metadata": {},
     "output_type": "execute_result"
    }
   ],
   "source": [
    "\"\"\"Данные имеют разное распределение и разные масштабы. Стандартизация данных позволяет приводить данные к среднему = 0 и \n",
    "ско = 1.\n",
    "При большом разбросе в данных коэффициенты при переменных могут быть очень маленькими.\n",
    "Не думаю, что \"FlightNum\" можно считать вещественным признаком. Это скорее категориальный.\n",
    "\"\"\""
   ]
  },
  {
   "cell_type": "markdown",
   "metadata": {},
   "source": [
    "Некоторые из признаков в нашем датасете являются категориальными. Типичным подходом к работе с ними является бинарное, или [one-hot-кодирование](https://en.wikipedia.org/wiki/One-hot).\n",
    "\n",
    "Реализуйте функцию transform_data, которая принимает на вход DataFrame с признаками и выполняет следующие шаги:\n",
    "1. Замена пропущенных значений на нули для вещественных признаков и на строки 'nan' для категориальных.\n",
    "2. Масштабирование вещественных признаков с помощью [StandardScaler](http://scikit-learn.org/stable/modules/generated/sklearn.preprocessing.StandardScaler.html).\n",
    "3. One-hot-кодирование категориальных признаков с помощью [DictVectorizer](http://scikit-learn.org/stable/modules/generated/sklearn.feature_extraction.DictVectorizer.html) или функции [pd.get_dummies](http://pandas.pydata.org/pandas-docs/stable/generated/pandas.get_dummies.html).\n",
    "\n",
    "Метод должен возвращать преобразованный DataFrame, который должна состоять из масштабированных вещественных признаков и закодированных категориальных (исходные признаки должны быть исключены из выборки)."
   ]
  },
  {
   "cell_type": "code",
   "execution_count": 66,
   "metadata": {},
   "outputs": [],
   "source": [
    "categorical = ['UniqueCarrier','Origin','Dest','Month', 'DayofMonth','DayOfWeek','FlightNum']\n",
    "binary = ['Diverted']\n",
    "integer_vals = ['WeatherDelay','NASDelay','SecurityDelay',\n",
    "                'Distance','TaxiIn','TaxiOut','ActualElapsedTime','CRSElapsedTime','AirTime','DepDelay','CarrierDelay',\n",
    "               'LateAircraftDelay','ArrTime_Hour','ArrTime_Min']\n",
    "def transform_data(data):\n",
    "    for c in data.columns:\n",
    "        if c in categorical:\n",
    "            data[c] = data[c].fillna('nan')\n",
    "            dummies = pd.get_dummies(data[c]).rename(columns=lambda x: str(c) + \"_\" + str(x))\n",
    "            data = pd.concat([data, dummies], axis=1)\n",
    "            data = data.drop([c], axis=1)\n",
    "        elif c in integer_vals:\n",
    "            data[c] = data[c].fillna(0)\n",
    "            sc = StandardScaler()\n",
    "            data[c] = sc.fit_transform(data[c].values.reshape(-1,1))\n",
    "    return data"
   ]
  },
  {
   "cell_type": "code",
   "execution_count": 67,
   "metadata": {},
   "outputs": [
    {
     "data": {
      "text/plain": [
       "(63404, 7567)"
      ]
     },
     "execution_count": 67,
     "metadata": {},
     "output_type": "execute_result"
    }
   ],
   "source": [
    "df = transform_data(df)\n",
    "df.shape"
   ]
  },
  {
   "cell_type": "markdown",
   "metadata": {},
   "source": [
    "Примените функцию transform_data к данным. Сколько признаков получилось после преобразования?"
   ]
  },
  {
   "cell_type": "code",
   "execution_count": 68,
   "metadata": {},
   "outputs": [],
   "source": [
    "drop_cols = ['UniqueCarrier_9E','Origin_ABE','Dest_ABE','Month_1','DayofMonth_3','DayOfWeek_3','FlightNum_65']\n",
    "df.drop(columns = drop_cols, inplace = True)"
   ]
  },
  {
   "cell_type": "markdown",
   "metadata": {},
   "source": [
    "**16. (0.5 балла)** Разбейте выборку и вектор целевой переменной на обучение и контроль в отношении 70/30 (для этого можно использовать, например, функцию [train_test_split](http://scikit-learn.org/stable/modules/generated/sklearn.cross_validation.train_test_split.html)). "
   ]
  },
  {
   "cell_type": "code",
   "execution_count": 69,
   "metadata": {},
   "outputs": [
    {
     "name": "stdout",
     "output_type": "stream",
     "text": [
      "(44382, 7559) (44382,)\n",
      "(19022, 7559) (19022,)\n"
     ]
    }
   ],
   "source": [
    "y = df['DepDelay']\n",
    "X = df.drop(columns = ['DepDelay'])\n",
    "\n",
    "X_train, X_test, y_train, y_test = train_test_split(X,y,test_size = 0.3)\n",
    "print(X_train.shape, y_train.shape)\n",
    "print(X_test.shape, y_test.shape)"
   ]
  },
  {
   "cell_type": "markdown",
   "metadata": {},
   "source": [
    "### Scikit-learn\n",
    "\n",
    "<img src = \"https://pp.vk.me/c4534/u35727827/93547647/x_d31c4463.jpg\">\n",
    "Теперь, когда мы привели данные к пригодному виду, попробуем решить задачу при помощи метода наименьших квадратов. Напомним, что данный метод заключается в оптимизации функционала $MSE$:\n",
    "\n",
    "$$MSE(X, y) = \\frac{1}{l} \\sum_{i=1}^l (<w, x_i> - y_i)^2 \\to \\min_{w},$$\n",
    "\n",
    "где $\\{ (x_i, y_i ) \\}_{i=1}^l$ — обучающая выборка, состоящая из $l$ пар объект-ответ.\n",
    "\n",
    "Заметим, что решение данной задачи уже реализовано в модуле sklearn в виде класса [LinearRegression](http://scikit-learn.org/stable/modules/generated/sklearn.linear_model.LinearRegression.html#sklearn.linear_model.LinearRegression).\n",
    "\n",
    "**17. (0.5 балла)** Обучите линейную регрессию на 1000 объектах из обучающей выборки и выведите значения $MSE$ и $R^2$ на этой подвыборке и контрольной выборке (итого 4 различных числа). Проинтерпретируйте полученный результат — насколько качественные прогнозы строит полученная модель? Какие проблемы наблюдаются в модели?\n",
    "\n",
    "**Подсказка**: изучите значения полученных коэффициентов $w$, сохраненных в атрибуте coef_ объекта LinearRegression."
   ]
  },
  {
   "cell_type": "code",
   "execution_count": 71,
   "metadata": {},
   "outputs": [
    {
     "data": {
      "text/plain": [
       "LinearRegression(copy_X=True, fit_intercept=True, n_jobs=4, normalize=False)"
      ]
     },
     "execution_count": 71,
     "metadata": {},
     "output_type": "execute_result"
    }
   ],
   "source": [
    "linReg = LinearRegression(n_jobs = 4)\n",
    "X_trains, y_trains = X_train[:1000], y_train[:1000]\n",
    "linReg.fit(X_trains, y_trains)"
   ]
  },
  {
   "cell_type": "code",
   "execution_count": 101,
   "metadata": {},
   "outputs": [
    {
     "name": "stdout",
     "output_type": "stream",
     "text": [
      "R^2 train : 1.0\n",
      "MSE train : 3.2879952207931793e-26\n",
      "R^2 train : 0.8718022405373687\n",
      "MSE train : 0.12744426199144926\n"
     ]
    }
   ],
   "source": [
    "y_pred = linReg.predict(X_trains).reshape(-1,1)\n",
    "print(\"R^2 train :\", linReg.score(X_trains, np.array(y_trains).reshape(-1,1)))\n",
    "print(\"MSE train :\", mse(y_pred, y_trains))\n",
    "\n",
    "y_pred = linReg.predict(X_test).reshape(-1,1)\n",
    "print(\"R^2 train :\", linReg.score(X_test, np.array(y_test).reshape(-1,1)))\n",
    "print(\"MSE train :\", mse(y_pred, y_test))\n"
   ]
  },
  {
   "cell_type": "markdown",
   "metadata": {
    "collapsed": true
   },
   "source": [
    "Для решения описанных вами в предыдущем пункте проблем используем L1- или L2-регуляризацию, тем самым получив Lasso и Ridge регрессии соответственно и изменив оптимизационную задачу одним из следующих образов:\n",
    "$$MSE_{L1}(X, y) = \\frac{1}{l} \\sum_{i=1}^l (<w, x_i> - y_i)^2 + \\alpha ||w||_1 \\to \\min_{w},$$\n",
    "$$MSE_{L2}(X, y) = \\frac{1}{l} \\sum_{i=1}^l (<w, x_i> - y_i)^2 + \\alpha ||w||_2^2 \\to \\min_{w},$$\n",
    "\n",
    "где $\\alpha$ — коэффициент регуляризации. Один из способов его подбора заключается в переборе некоторого количества значений и оценке качества на кросс-валидации для каждого из них, после чего выбирается значение, для которого было получено наилучшее качество.\n",
    "\n",
    "**18. (0.5 балла)** Обучите линейные регрессии с L1- и L2-регуляризатором, подобрав лучшее значение параметра регуляризации из списка alpha_grid при помощи кросс-валидации c 5 фолдами на тех же 1000 объектах, что и в п.17. Выведите значения $MSE$ и $R^2$ на обучающей и контрольной выборках. Удалось ли решить указанные вами ранее проблемы?\n",
    "\n",
    "Для выполнения данного задания вам могут понадобиться реализованные в библиотеке объекты [LassoCV](http://scikit-learn.org/stable/modules/generated/sklearn.linear_model.LassoCV.html), [RidgeCV](http://scikit-learn.org/stable/modules/generated/sklearn.linear_model.RidgeCV.html) и [KFold](http://scikit-learn.org/stable/modules/generated/sklearn.cross_validation.KFold.html).\n"
   ]
  },
  {
   "cell_type": "code",
   "execution_count": 105,
   "metadata": {},
   "outputs": [
    {
     "name": "stdout",
     "output_type": "stream",
     "text": [
      "Fitting 5 folds for each of 50 candidates, totalling 250 fits\n"
     ]
    },
    {
     "name": "stderr",
     "output_type": "stream",
     "text": [
      "[Parallel(n_jobs=-1)]: Using backend LokyBackend with 8 concurrent workers.\n",
      "[Parallel(n_jobs=-1)]: Done  34 tasks      | elapsed:    6.2s\n",
      "[Parallel(n_jobs=-1)]: Done 184 tasks      | elapsed:   13.0s\n",
      "[Parallel(n_jobs=-1)]: Done 250 out of 250 | elapsed:   15.7s finished\n"
     ]
    },
    {
     "name": "stdout",
     "output_type": "stream",
     "text": [
      "Fitting 5 folds for each of 50 candidates, totalling 250 fits\n"
     ]
    },
    {
     "name": "stderr",
     "output_type": "stream",
     "text": [
      "[Parallel(n_jobs=-1)]: Using backend LokyBackend with 8 concurrent workers.\n",
      "[Parallel(n_jobs=-1)]: Done  34 tasks      | elapsed:    2.5s\n",
      "[Parallel(n_jobs=-1)]: Done 184 tasks      | elapsed:   16.1s\n",
      "[Parallel(n_jobs=-1)]: Done 250 out of 250 | elapsed:   22.1s finished\n"
     ]
    }
   ],
   "source": [
    "LassoReg = Lasso(fit_intercept=False)\n",
    "lasso_params = {'alpha':np.linspace(0.001,3,50)}\n",
    "clf = GridSearchCV(LassoReg, lasso_params, cv = 5, verbose = True, n_jobs = -1)\n",
    "best_modelL = clf.fit(X_trains, y_trains)\n",
    "RidgeReg = Ridge(fit_intercept=False)\n",
    "ridge_params = {'alpha':np.linspace(0.001,3,50)}\n",
    "clf = GridSearchCV(RidgeReg, ridge_params, cv = 5, verbose = True,  n_jobs = -1)\n",
    "best_modelR = clf.fit(X_trains, y_trains)"
   ]
  },
  {
   "cell_type": "code",
   "execution_count": 106,
   "metadata": {},
   "outputs": [
    {
     "name": "stdout",
     "output_type": "stream",
     "text": [
      "-0.8654499400837785\n",
      "0.8818857125511841\n"
     ]
    }
   ],
   "source": [
    "print(best_modelR.best_score_)\n",
    "print(best_modelL.best_score_)"
   ]
  },
  {
   "cell_type": "markdown",
   "metadata": {},
   "source": [
    "### Градиентный спуск\n",
    "\n",
    "В предыдущем разделе мы использовали существующие реализации методов обучения линейной регрессии с регуляризацией и без. Тем не менее, подобные реализации, как правило, имеются лишь для ограниченного набора стандартных методов. В частности, при выходе функционала качества за пределы стандартного множества необходимо самостоятельно реализовывать составляющие процесса решения оптимизационной задачи. Именно этому и посвящен данный раздел задания.\n",
    "\n",
    "Пусть необходимо минимизировать следующий функционал (Mean Square Percentage Error — модифицированный [RMSPE](https://www.kaggle.com/c/rossmann-store-sales/details/evaluation)):\n",
    "$$MSPE(\\{x_i, y_i\\}_{i=1}^l, \\, w) = \\frac{1}{l}\\sum_{i=1}^l \\left( \\frac{y_i - \\langle w, x_i \\rangle }{y_i} \\right)^2,$$\n",
    "\n",
    "где $\\{x_i, y_i\\}_{i=1}^l$ — обучающая выборка, $w$ — вектор весов линейной модели. Будем также рассматривать функционал $MSPE$ с L2-регуляризацией:\n",
    "\n",
    "$$MSPE(\\{x_i, y_i\\}_{i=1}^l, \\, w) = \\frac{1}{l}\\sum_{i=1}^l \\left( \\frac{y_i - \\langle w, x_i \\rangle }{y_i} \\right)^2 + ||w||_2^2.$$\n",
    "\n",
    "**19. (0 баллов)** Добавьте к объектам обеих выборок из п. 16 единичный признак."
   ]
  },
  {
   "cell_type": "code",
   "execution_count": 104,
   "metadata": {},
   "outputs": [],
   "source": [
    "X['ones'] = np.ones(X.shape[0])"
   ]
  },
  {
   "cell_type": "markdown",
   "metadata": {},
   "source": [
    "**20. (1 балл)** Реализуйте функции, которые вычисляют:\n",
    " * прогнозы линейной модели;\n",
    " * функционал $MSPE$ и его градиент;\n",
    " * регуляризованный $MSPE$ и его градиент."
   ]
  },
  {
   "cell_type": "code",
   "execution_count": 110,
   "metadata": {},
   "outputs": [],
   "source": [
    "# возвращает вектор прогнозов линейной модели с вектором весов w для выборки X\n",
    "def make_pred(X, w):\n",
    "    return np.matmul(X,w.T)\n",
    "\n",
    "# возвращает значение функционала MSPE для выборки (X, y) и вектора весов w\n",
    "def get_func(w, X, y):\n",
    "    y_pred = make_pred(X, w)\n",
    "    return np.mean(np.square(((y - y_pred) / y)), axis=0)\n",
    "\n",
    "# возвращает градиент функционала MSPE для выборки (X, y) и вектора весов w\n",
    "def get_grad(w, X, y):\n",
    "    z = make_pred(X, w)\n",
    "    n = y.shape[0] \n",
    "    dz = (2/n)*((z - y)/ y**2)    \n",
    "    dw = np.matmul(dz.T, X)\n",
    "    return dw\n",
    "\n",
    "def mspe(y, y_pred):\n",
    "    return np.mean(np.square(((y - y_pred) / y)), axis=0)\n",
    "\n",
    "# возвращает значение регуляризованного функционала MSPE для выборки (X, y) и вектора весов w\n",
    "def get_reg_func(y_pred, y, w):\n",
    "    return np.mean(np.square(((y - y_pred) / y)), axis=0) + np.square(np.linalg.norm(w))\n",
    "\n",
    "# возвращает градиент регуляризованного функционала MSPE для выборки (X, y) и вектора весов w\n",
    "def get_reg_grad(w, X, y):\n",
    "    z = make_pred(X, w)\n",
    "    n = y.shape[0] \n",
    "    dz = (2/n)*((z - y)/ y**2)    \n",
    "    dw = np.matmul(dz.T, X) + 2 * np.linalg.norm(w)\n",
    "    return dw\n",
    "\n"
   ]
  },
  {
   "cell_type": "markdown",
   "metadata": {},
   "source": [
    "**21. (1 балл)** Реализуйте метод градиентного спуска для описанных функционалов ($MSPE$ и его регуляризованный вариант). Функция должна принимать следующие параметры:\n",
    " - X — матрица \"объект-признак\";\n",
    " - y — вектор целевой переменной;\n",
    " - w0 — начальное значение вектора весов;\n",
    " - step_size — значение темпа обучения;\n",
    " - max_iter — максимальное число итераций;\n",
    " - eps — значение, используемое в критерии останова;\n",
    " - is_reg — бинарный параметр, принимает значение True в случае наличия регуляризации функционала, False — в противном случае.\n",
    " \n",
    "Процесс должен быть остановлен, если выполнено хотя бы одно из следующих условий:\n",
    " - было выполнено заданное количество итераций max_iter;\n",
    " - евклидова норма разности векторов $w$ на соседних итерациях стала меньше, чем eps.\n",
    "\n",
    "Функция должна возвращать полученный в результате оптимизации вектор $w$ и список значений функционала на каждой итерации."
   ]
  },
  {
   "cell_type": "code",
   "execution_count": 111,
   "metadata": {},
   "outputs": [],
   "source": [
    "def grad_descent(X, y, w0, step_size, max_iter, eps, is_reg = True) -> tuple:\n",
    "    w = w0.copy()\n",
    "    diff = 1.0\n",
    "    costs = []\n",
    "    i = 0\n",
    "    for i in range(1, max_iter):\n",
    "        z = make_pred(X, w)\n",
    "        \n",
    "        if is_reg:\n",
    "            err = get_reg_func(z, y, w)\n",
    "            #print(norm(w))\n",
    "            dw = get_reg_grad(w, X, y)\n",
    "        else:\n",
    "            err = mspe(y, z)\n",
    "            dw = get_grad(w, X, y)\n",
    "         \n",
    "        costs.append(err)\n",
    "        step = step_size * dw\n",
    "        if norm(step) < eps or err > costs[0]:\n",
    "            print(\"Epsilon rule stop\")\n",
    "            break\n",
    "        w = w - step_size * dw\n",
    "        if i %1000 == 0:\n",
    "            print(f\"i = {i}/{max_iter} {i/max_iter * 100} %) \")\n",
    "            print(\"MSPE :\", mspe(y, z))\n",
    "            print(\"-----\")\n",
    "    plt.plot(costs, label = 'MSPE')\n",
    "    s = f\"is_reg = {is_reg}\"\n",
    "    plt.title(s)\n",
    "    plt.legend()\n",
    "    plt.show()\n",
    "    return w, costs"
   ]
  },
  {
   "cell_type": "markdown",
   "metadata": {},
   "source": [
    "Обучите линейную регрессию с функционалом $MSPE$ на обучающей выборке при помощи метода градиентного спуска и изобразите кривые зависимости значения функционала от номера итерации для различных:\n",
    " * значений размера шага из набора [0.001, 1, 10];\n",
    " * способов начальной инициализации вектора весов (нули, случайные веса).\n",
    "\n",
    "Проанализируйте полученные результаты — влияют ли данные параметры на скорость сходимости и итоговое качество? Если да, то как?"
   ]
  },
  {
   "cell_type": "code",
   "execution_count": 112,
   "metadata": {},
   "outputs": [
    {
     "name": "stdout",
     "output_type": "stream",
     "text": [
      "Epsilon rule stop\n"
     ]
    },
    {
     "data": {
      "image/png": "[encoded data removed]",
      "text/plain": [
       "<Figure size 432x288 with 1 Axes>"
      ]
     },
     "metadata": {
      "needs_background": "light"
     },
     "output_type": "display_data"
    },
    {
     "name": "stdout",
     "output_type": "stream",
     "text": [
      "Epsilon rule stop\n"
     ]
    },
    {
     "data": {
      "image/png": "[encoded data removed]",
      "text/plain": [
       "<Figure size 432x288 with 1 Axes>"
      ]
     },
     "metadata": {
      "needs_background": "light"
     },
     "output_type": "display_data"
    },
    {
     "data": {
      "image/png": "[encoded data removed]",
      "text/plain": [
       "<Figure size 432x288 with 1 Axes>"
      ]
     },
     "metadata": {
      "needs_background": "light"
     },
     "output_type": "display_data"
    }
   ],
   "source": [
    "reg = False\n",
    "for sz in [1, 0.0001, 0.0000001]:\n",
    "    w0 = np.random.randn(1, X_trains.shape[1]) * 0.01\n",
    "    weights, costs = grad_descent(np.array(X_trains), np.array(y_trains).reshape(-1,1), w0, step_size = sz,\\\n",
    "                              eps = 0.000001, max_iter = 100, is_reg = reg)"
   ]
  },
  {
   "cell_type": "code",
   "execution_count": 114,
   "metadata": {},
   "outputs": [
    {
     "name": "stdout",
     "output_type": "stream",
     "text": [
      "Epsilon rule stop\n"
     ]
    },
    {
     "data": {
      "image/png": "[encoded data removed]",
      "text/plain": [
       "<Figure size 432x288 with 1 Axes>"
      ]
     },
     "metadata": {
      "needs_background": "light"
     },
     "output_type": "display_data"
    },
    {
     "name": "stdout",
     "output_type": "stream",
     "text": [
      "Epsilon rule stop\n"
     ]
    },
    {
     "data": {
      "image/png": "[encoded data removed]",
      "text/plain": [
       "<Figure size 432x288 with 1 Axes>"
      ]
     },
     "metadata": {
      "needs_background": "light"
     },
     "output_type": "display_data"
    },
    {
     "data": {
      "image/png": "[encoded data removed]",
      "text/plain": [
       "<Figure size 432x288 with 1 Axes>"
      ]
     },
     "metadata": {
      "needs_background": "light"
     },
     "output_type": "display_data"
    }
   ],
   "source": [
    "reg = False\n",
    "for sz in [1, 0.0001, 0.0000001]:\n",
    "    w0 = np.zeros(shape = (1, X_trains.shape[1]))\n",
    "    weights, costs = grad_descent(np.array(X_trains), np.array(y_trains).reshape(-1,1), w0, step_size = sz,\\\n",
    "                              eps = 0.000001, max_iter = 100, is_reg = reg)"
   ]
  },
  {
   "cell_type": "markdown",
   "metadata": {},
   "source": [
    "**22. (0.5 балла)** Обучите линейную регрессию с функционалом MSPE и его регуляризованным вариантом на обучающей выборке при помощи метода градиентного спуска и изобразите кривые зависимости значения функционала от номера итерации. Исследуйте зависимость скорости сходимости от наличия регуляризации. Обоснуйте, почему так происходит."
   ]
  },
  {
   "cell_type": "code",
   "execution_count": 116,
   "metadata": {},
   "outputs": [
    {
     "data": {
      "image/png": "[encoded data removed]",
      "text/plain": [
       "<Figure size 432x288 with 1 Axes>"
      ]
     },
     "metadata": {
      "needs_background": "light"
     },
     "output_type": "display_data"
    },
    {
     "data": {
      "image/png": "[encoded data removed]",
      "text/plain": [
       "<Figure size 432x288 with 1 Axes>"
      ]
     },
     "metadata": {
      "needs_background": "light"
     },
     "output_type": "display_data"
    }
   ],
   "source": [
    "reg = False\n",
    "w0 = np.random.randn(1, X_trains.shape[1]) * 0.01\n",
    "weights, costs = grad_descent(np.array(X_trains), np.array(y_trains).reshape(-1,1), w0, step_size = 0.0000001,\\\n",
    "                              eps = 0.000001, max_iter = 500, is_reg = reg)\n",
    "reg = True\n",
    "w0 = np.random.randn(1, X_trains.shape[1]) * 0.01\n",
    "weights, costs = grad_descent(np.array(X_trains), np.array(y_trains).reshape(-1,1), w0, step_size = 0.0000001,\\\n",
    "                              eps = 0.000001, max_iter = 500, is_reg = reg)"
   ]
  },
  {
   "cell_type": "code",
   "execution_count": 115,
   "metadata": {},
   "outputs": [
    {
     "name": "stdout",
     "output_type": "stream",
     "text": [
      "Epsilon rule stop\n"
     ]
    },
    {
     "data": {
      "image/png": "[encoded data removed]",
      "text/plain": [
       "<Figure size 432x288 with 1 Axes>"
      ]
     },
     "metadata": {
      "needs_background": "light"
     },
     "output_type": "display_data"
    },
    {
     "name": "stdout",
     "output_type": "stream",
     "text": [
      "Epsilon rule stop\n"
     ]
    },
    {
     "data": {
      "image/png": "[encoded data removed]",
      "text/plain": [
       "<Figure size 432x288 with 1 Axes>"
      ]
     },
     "metadata": {
      "needs_background": "light"
     },
     "output_type": "display_data"
    }
   ],
   "source": [
    "reg = False\n",
    "w0 = np.zeros((1, X_trains.shape[1]))\n",
    "weights, costs = grad_descent(np.array(X_trains), np.array(y_trains).reshape(-1,1), w0, step_size = 0.0000001,\\\n",
    "                              eps = 0.000001, max_iter = 500, is_reg = reg)\n",
    "reg = True\n",
    "w0 = np.zeros((1, X_trains.shape[1]))\n",
    "weights, costs = grad_descent(np.array(X_trains), np.array(y_trains).reshape(-1,1), w0, step_size = 0.0000001,\\\n",
    "                              eps = 0.000001, max_iter = 500, is_reg = reg)"
   ]
  },
  {
   "cell_type": "markdown",
   "metadata": {},
   "source": [
    "Метод градиентного спуска может быть весьма трудозатратен в случае большого размера обучающей выборки. Поэтому часто используют метод стохастического градиентного спуска, где на каждой итерации выбирается случайный объект из обучающей выборки и обновление весов происходит только по этому объекту. \n",
    "\n",
    "**23. (1 доп. балл)**  Реализуйте метод стохастического градиентного спуска (SGD) для описанных функционалов ($MSPE$ и его регуляризованный вариант). Функция должна иметь параметры и возвращаемое значение, аналогичные оным функции grad\\_descent из п.21. Кроме того, должен использоваться аналогичный критерий останова."
   ]
  },
  {
   "cell_type": "code",
   "execution_count": 119,
   "metadata": {},
   "outputs": [],
   "source": [
    "def sgd(X, y, X_test, y_test, w0, step_size, max_iter, eps, is_reg, batch_size = 32):\n",
    "    w = w0.copy()\n",
    "    diff = 1.0\n",
    "    costs = []\n",
    "    costs_mse = []\n",
    "    test_mse = []\n",
    "    i = 0\n",
    "    for i in range(1, max_iter):\n",
    "        pred = make_pred(X, w)\n",
    "        costs_mse.append(mse(y, pred))\n",
    "        err = get_reg_func(pred, y, w) if reg else mspe(y, pred) \n",
    "        costs.append(err)\n",
    "        \n",
    "        test_pred = make_pred(X_test, w)\n",
    "        test_mse.append(mse(test_pred, y_test))\n",
    "        \n",
    "        rand_index = np.random.randint(0,X.shape[0],size = batch_size)\n",
    "        X_item = X[rand_index].reshape(batch_size,-1)\n",
    "        y_item = y[rand_index]\n",
    "        if is_reg:\n",
    "            dw = get_reg_grad(w, X_item, y_item)\n",
    "        else:\n",
    "            dw = get_grad(w, X_item, y_item)\n",
    "        step = step_size * dw\n",
    "        if abs(norm(step)) < eps:\n",
    "            print(\"Epsilon Break\")\n",
    "            break\n",
    "        w = w - step_size*dw\n",
    "        if i % 500 == 0:\n",
    "            print(f\"i = {i}/{max_iter} {i/max_iter * 100} %) \")\n",
    "            print(\"MSPE :\", err)\n",
    "            print(\"-----\")   \n",
    "    pred = make_pred(X, w)\n",
    "    print(\"TRAIN MSPE: \", mspe(y, pred) )\n",
    "    print(\"TRAIN MSE: \", mse(y, pred))\n",
    "    print(\"TRAIN R2 : \", r2_score(y, pred))\n",
    "    print(\"----------\")\n",
    "    pred = make_pred(X_test, w)\n",
    "    print(\"TEST MSPE: \", mspe(y_test, pred) )\n",
    "    print(\"TEST MSE: \", mse(y_test, pred))\n",
    "    print(\"TEST R2 : \", r2_score(y_test, pred))\n",
    "\n",
    "    plt.plot(costs, label = 'MSPE train')\n",
    "    plt.legend()\n",
    "    plt.show()\n",
    "    return w, costs"
   ]
  },
  {
   "cell_type": "markdown",
   "metadata": {},
   "source": [
    "Обучите линейную регрессию с функционалом $MSPE$ и его регуляризованным вариантом на обучающей выборке при помощи метода стохастического градиентного спуска, подобрав при этом размер шага, при котором метод будет сходиться. Нарисуйте график сходимости. Выведите значения $MSPE, MSE, R^2$ на контрольной выборке."
   ]
  },
  {
   "cell_type": "markdown",
   "metadata": {},
   "source": [
    "**24. (0.5 доп. балла)** Аналогично п.22 исследуйте зависимость скорости сходимости метода SGD от наличия регуляризации. Обоснуйте, почему так происходит."
   ]
  },
  {
   "cell_type": "code",
   "execution_count": 121,
   "metadata": {},
   "outputs": [
    {
     "name": "stdout",
     "output_type": "stream",
     "text": [
      "i = 500/1000 50.0 %) \n",
      "MSPE : [2.23765741]\n",
      "-----\n",
      "TRAIN MSPE:  [1.37959378]\n",
      "TRAIN MSE:  0.8484880648371422\n",
      "TRAIN R2 :  -0.05043318465066693\n",
      "----------\n",
      "TEST MSPE:  [2.14741098]\n",
      "TEST MSE:  1.0249050836794087\n",
      "TEST R2 :  -0.03096470046157429\n"
     ]
    },
    {
     "data": {
      "image/png": "[encoded data removed]",
      "text/plain": [
       "<Figure size 432x288 with 1 Axes>"
      ]
     },
     "metadata": {
      "needs_background": "light"
     },
     "output_type": "display_data"
    },
    {
     "name": "stdout",
     "output_type": "stream",
     "text": [
      "i = 500/1000 50.0 %) \n",
      "MSPE : [2.21329026]\n",
      "-----\n",
      "TRAIN MSPE:  [1.34256405]\n",
      "TRAIN MSE:  0.8499375731625571\n",
      "TRAIN R2 :  -0.052227684431563004\n",
      "----------\n",
      "TEST MSPE:  [2.10848514]\n",
      "TEST MSE:  1.026059154183435\n",
      "TEST R2 :  -0.03212559425597661\n"
     ]
    },
    {
     "data": {
      "image/png": "[encoded data removed]",
      "text/plain": [
       "<Figure size 432x288 with 1 Axes>"
      ]
     },
     "metadata": {
      "needs_background": "light"
     },
     "output_type": "display_data"
    }
   ],
   "source": [
    "X_test = np.array(X_test)\n",
    "y_test = np.array(y_test).reshape(-1,1)\n",
    "w0 = np.random.randn(1, X_trains.shape[1]) * 0.01\n",
    "weights, costs1 = sgd(np.array(X_trains), np.array(y_trains).reshape(-1,1),X_test, y_test, w0, \\\n",
    "                     step_size = 0.00000015, max_iter = 1000, eps = 0.0000001, is_reg = False)\n",
    "weights, costs2 = sgd(np.array(X_trains), np.array(y_trains).reshape(-1,1), X_test, y_test, w0, \\\n",
    "                     step_size = 0.00000015, max_iter = 1000, eps = 0.0000001, is_reg = True)"
   ]
  },
  {
   "cell_type": "markdown",
   "metadata": {},
   "source": [
    "**25. (0.5 балла)** Обучите стандартную линейную регрессию с функционалом качества MSE на обучающей выборке и выведите значение MSPE полученного решения на контрольной выборке. Как оно соотносится с аналогичным результатом для решения, полученного в п.22? Почему?"
   ]
  },
  {
   "cell_type": "code",
   "execution_count": 123,
   "metadata": {},
   "outputs": [
    {
     "name": "stdout",
     "output_type": "stream",
     "text": [
      "i = 0/15000 0.0 %) \n",
      "MSPE : [612.92999036]\n",
      "MSE : [3.7887663568004584]\n",
      "-----\n",
      "i = 1000/15000 6.666666666666667 %) \n",
      "MSPE : [2.06414288]\n",
      "MSE : [0.6837876834929368]\n",
      "-----\n",
      "i = 2000/15000 13.333333333333334 %) \n",
      "MSPE : [1.91441551]\n",
      "MSE : [0.5808626584104529]\n",
      "-----\n",
      "i = 3000/15000 20.0 %) \n",
      "MSPE : [2.0616541]\n",
      "MSE : [0.49981825356208553]\n",
      "-----\n",
      "i = 4000/15000 26.666666666666668 %) \n",
      "MSPE : [2.37192631]\n",
      "MSE : [0.4347124594773358]\n",
      "-----\n",
      "i = 5000/15000 33.33333333333333 %) \n",
      "MSPE : [2.77719358]\n",
      "MSE : [0.38154534163561776]\n",
      "-----\n",
      "i = 6000/15000 40.0 %) \n",
      "MSPE : [3.24172842]\n",
      "MSE : [0.3375399817151502]\n",
      "-----\n",
      "i = 7000/15000 46.666666666666664 %) \n",
      "MSPE : [3.74573595]\n",
      "MSE : [0.30071491411829926]\n",
      "-----\n",
      "i = 8000/15000 53.333333333333336 %) \n",
      "MSPE : [4.27729952]\n",
      "MSE : [0.269620743676397]\n",
      "-----\n",
      "i = 9000/15000 60.0 %) \n",
      "MSPE : [4.82841392]\n",
      "MSE : [0.24317288853943345]\n",
      "-----\n",
      "i = 10000/15000 66.66666666666666 %) \n",
      "MSPE : [5.39304901]\n",
      "MSE : [0.22054259358072306]\n",
      "-----\n",
      "i = 11000/15000 73.33333333333333 %) \n",
      "MSPE : [5.96622659]\n",
      "MSE : [0.20108433162911593]\n",
      "-----\n",
      "i = 12000/15000 80.0 %) \n",
      "MSPE : [6.54360009]\n",
      "MSE : [0.18428649393192045]\n",
      "-----\n",
      "i = 13000/15000 86.66666666666667 %) \n",
      "MSPE : [7.12127824]\n",
      "MSE : [0.16973729209614452]\n",
      "-----\n",
      "i = 14000/15000 93.33333333333333 %) \n",
      "MSPE : [7.69576109]\n",
      "MSE : [0.15710076683692648]\n",
      "-----\n",
      "TEST MSPE:  [18.45008525]\n",
      "TEST MSE:  0.18474303174137782\n",
      "TEST R2 :  0.8141646993321092\n"
     ]
    },
    {
     "data": {
      "image/png": "[encoded data removed]",
      "text/plain": [
       "<Figure size 432x288 with 1 Axes>"
      ]
     },
     "metadata": {
      "needs_background": "light"
     },
     "output_type": "display_data"
    },
    {
     "data": {
      "image/png": "[encoded data removed]",
      "text/plain": [
       "<Figure size 432x288 with 1 Axes>"
      ]
     },
     "metadata": {
      "needs_background": "light"
     },
     "output_type": "display_data"
    },
    {
     "name": "stdout",
     "output_type": "stream",
     "text": [
      "R2 test:  0.8141646993321092\n",
      "MSE test : 0.18474303174137782\n",
      "MSPE test : [18.45008525]\n"
     ]
    }
   ],
   "source": [
    "def init_weights(lenw):\n",
    "    w = np.random.randn(1, lenw) * 0.1\n",
    "    return w\n",
    "def forward(X, w):\n",
    "    return np.matmul(X,w.T)\n",
    "def back_prop(X, y, z):\n",
    "    n = y.shape[0] \n",
    "    dz = (1/n)*(z - y)    \n",
    "    dw = np.matmul(dz.T, X)\n",
    "    return dw\n",
    "def grad_update(w, dw, lr):\n",
    "    w = w - dw * lr\n",
    "    return w\n",
    "\n",
    "def lin_reg(X, y, X_test, y_test, max_iter, lr):\n",
    "    w = init_weights(X.shape[1]) * 0.1\n",
    "    costs = []\n",
    "    mse_arr = []\n",
    "    for i in range(max_iter):\n",
    "        z = forward(X,w)\n",
    "        dw = back_prop(X, y, z)\n",
    "        w = grad_update(w,dw,lr)\n",
    "        \n",
    "        err = mspe(y, z)\n",
    "        costs.append(err)\n",
    "        mse_arr.append(mse(y, z))\n",
    "        \n",
    "        if i % 1000 == 0:\n",
    "            print(f\"i = {i}/{max_iter} {i/max_iter * 100} %) \")\n",
    "            print(\"MSPE :\", err)\n",
    "            print(\"MSE :\" , [mse_arr[i]])\n",
    "            print(\"-----\") \n",
    "            \n",
    "    pred = make_pred(X_test, w)\n",
    "    print(\"TEST MSPE: \", mspe(y_test, pred) )\n",
    "    print(\"TEST MSE: \", mse(y_test, pred))\n",
    "    print(\"TEST R2 : \", r2_score(y_test, pred))\n",
    "    \n",
    "    plt.plot(costs, color  = 'r', label = 'Train MSPE')\n",
    "    plt.legend()\n",
    "    plt.show()\n",
    "    plt.plot(mse_arr, color = 'b', label = 'Train MSE')\n",
    "    plt.legend()\n",
    "    plt.show()\n",
    "    return w\n",
    "\n",
    "w = lin_reg(np.array(X_trains), np.array(y_trains).reshape(-1,1), X_test, y_test,\\\n",
    "           15000, 0.0001)\n",
    "test_pred = make_pred(np.array(X_test), w)\n",
    "\n",
    "print(\"R2 test: \", r2_score(y_test, test_pred))\n",
    "print(\"MSE test :\" , mse(test_pred, y_test))\n",
    "print(\"MSPE test :\" , mspe(np.array(y_test).reshape(-1,1), test_pred.reshape(-1,1)))"
   ]
  },
  {
   "cell_type": "markdown",
   "metadata": {},
   "source": [
    "Здесь вы можете поделиться своими мыслями по поводу этого задания."
   ]
  },
  {
   "cell_type": "markdown",
   "metadata": {},
   "source": [
    "# Комментарий\n",
    "Если обучать линейную регрессию с минимизацией MSE, то MSE падает, но при этом MSPE не падает. \n",
    "Если обучить линейную регрессию с минимизацией MSPE, то MSPE падает, а MSE нет. \n",
    "Могу предположить, что я считаю градиент или саму метрику неправильно.\n",
    "Но если значение функционала падает от итерации к итерации, то скорее всего просто метрика не подходит к набору данных. \n",
    "\n",
    "Действительно, если в MSPE передаётся y_true = 0, то происходит деление не 0 и значение функционала уходит в бесконечность, \n",
    "а т.к. при стандартизации DepDelay возникает множество значений близких к 0, то возможно  MSPE не лучший выбор.\n"
   ]
  },
  {
   "cell_type": "markdown",
   "metadata": {},
   "source": [
    "А здесь — вставить вашу любимую картинку."
   ]
  },
  {
   "attachments": {
    "image.png": {
     "image/png": "[encoded data removed]"
    }
   },
   "cell_type": "markdown",
   "metadata": {},
   "source": [
    "![image.png](attachment:image.png)"
   ]
  }
 ],
 "metadata": {
  "kernelspec": {
   "display_name": "Python 3",
   "language": "python",
   "name": "python3"
  },
  "language_info": {
   "codemirror_mode": {
    "name": "ipython",
    "version": 3
   },
   "file_extension": ".py",
   "mimetype": "text/x-python",
   "name": "python",
   "nbconvert_exporter": "python",
   "pygments_lexer": "ipython3",
   "version": "3.7.6"
  }
 },
 "nbformat": 4,
 "nbformat_minor": 1
}
